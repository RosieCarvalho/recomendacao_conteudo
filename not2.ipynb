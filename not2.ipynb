{
 "cells": [
  {
   "cell_type": "code",
   "execution_count": 93,
   "metadata": {},
   "outputs": [],
   "source": [
    "# Recomendação - Rosie\n",
    "## Ensinando\n",
    "### Não sei"
   ]
  },
  {
   "cell_type": "code",
   "execution_count": 94,
   "metadata": {},
   "outputs": [],
   "source": [
    "import pandas as pd\n",
    "import os\n",
    "from scipy.sparse import csr_matrix\n",
    "from sklearn.neighbors import NearestNeighbors\n",
    "import argparse\n",
    "import gc\n",
    "import time\n",
    "import numpy as np\n",
    "from fuzzywuzzy import fuzz"
   ]
  },
  {
   "cell_type": "code",
   "execution_count": 95,
   "metadata": {},
   "outputs": [],
   "source": [
    "# Preparação de dados\n",
    "\n",
    "def _prep_data(df_movies,df_ratings,movie_rating_thres, user_rating_thres):\n",
    "    df_movies = pd.read_csv('movies.csv',usecols=['movieId', 'title'],dtype={'movieId': 'int32', 'title': 'str'})\n",
    "    df_ratings = pd.read_csv('ratings.csv',usecols=['userId', 'movieId', 'rating'],dtype={'userId': 'int32', 'movieId': 'int32', 'rating': 'float32'})\n",
    "    # conta o numero de avaliações do filme\n",
    "    df_movies_cnt = pd.DataFrame(df_ratings.groupby('movieId').size(),columns=['count'])\n",
    "    \n",
    "\n",
    "\n",
    "#          defina o limite de frequência de classificação para filtrar filmes menos conhecidos e\n",
    "#          usuários menos ativos\n",
    "#          Parâmetros\n",
    "#          ----------\n",
    "#          movie_rating_thres: int, número mínimo de classificações recebidas pelos usuários\n",
    "#          user_rating_thres: int, número mínimo de classificações que um usuário fornece\n",
    "\n",
    "\n",
    "\n",
    "    # noqa\n",
    "    popular_movies = list(set(df_movies_cnt.query('count >= @movie_rating_thres').index))          \n",
    "    movies_filter = df_ratings.movieId.isin(popular_movies).values\n",
    "\n",
    "    df_users_cnt = pd.DataFrame(df_ratings.groupby('userId').size(),columns=['count'])\n",
    "    \n",
    "    # noqa\n",
    "    active_users = list(set(df_users_cnt.query('count >= @user_rating_thres').index))  \n",
    "    \n",
    "    users_filter = df_ratings.userId.isin(active_users).values\n",
    "\n",
    "    df_ratings_filtered = df_ratings[movies_filter & users_filter]\n",
    "\n",
    "    # pivot and create movie-user matrix\n",
    "    movie_user_mat = df_ratings_filtered.pivot(index='movieId', columns='userId', values='rating').fillna(0)\n",
    "    # create mapper from movie title to index\n",
    "\n",
    "\n",
    "    hashmap = {\n",
    "        movie: \n",
    "        i for i, movie in enumerate(list(df_movies.set_index('movieId').loc[movie_user_mat.index].title))\n",
    "        }\n",
    "        \n",
    "    # for i,movie in enumerate(list(df_movies.set_index('movieId').loc[movie_user_mat.index].title)):\n",
    "    #     if movie == 'Toy Story (1995)':\n",
    "    #         print(i,movie)\n",
    "        \n",
    "    # print(list(df_movies.set_index('movieId').loc[movie_user_mat.index].title))\n",
    "    # transform matrix to scipy sparse matrix\n",
    "    movie_user_mat_sparse = csr_matrix(movie_user_mat.values)    \n",
    "\n",
    "    # clean up\n",
    "    del df_movies, df_movies_cnt, df_users_cnt\n",
    "    del df_ratings, df_ratings_filtered, movie_user_mat\n",
    "    gc.collect()\n",
    "\n",
    "    return movie_user_mat_sparse, hashmap\n",
    "\n"
   ]
  },
  {
   "cell_type": "code",
   "execution_count": 96,
   "metadata": {},
   "outputs": [],
   "source": [
    "# Inferência\n",
    "def _inference(distances,indices):\n",
    "\n",
    "    print('Sistema de recomendação começa a fazer inferência')\n",
    "    print('......\\n')\n",
    "    t0 = time.time()\n",
    "\n",
    "    # get list of raw idx of recommendations\n",
    "    raw_recommends = sorted(list(zip(indices.squeeze().tolist(),distances.squeeze().tolist())),key=lambda x: x[1])[:0:-1]\n",
    "\n",
    "    print('O meu sistema {: .2f} s fez inferência \\n\\\n",
    "              '.format(time.time() - t0))\n",
    "\n",
    "    return raw_recommends\n",
    "\n",
    "\n",
    "# Recomendação\n",
    "def make_recommendations(hashmap,raw_recommends):\n",
    "    filmesRecomendados = []\n",
    "    \n",
    "    reverse_hashmap = {v: k for k, v in hashmap.items()}\n",
    "    \n",
    "    for i, (idx, dist) in enumerate(raw_recommends):      \n",
    "        print('{0}: {1}, with distance '\n",
    "         'of {2}'.format(i+1, reverse_hashmap[idx], dist))\n",
    "\n",
    "        filmesRecomendados.append(reverse_hashmap[idx])\n",
    "\n",
    "    return filmesRecomendados"
   ]
  },
  {
   "cell_type": "code",
   "execution_count": 97,
   "metadata": {},
   "outputs": [],
   "source": [
    "# KNN\n",
    "def Knn(data,idx,n_recommendations):\n",
    "    model = NearestNeighbors(n_neighbors=20,algorithm='brute',metric='cosine')\n",
    "    model.fit(data)\n",
    "    distances, indices = model.kneighbors(data[idx],n_neighbors=n_recommendations+1)\n",
    "    return [distances,indices]\n",
    "\n",
    "# Fuzzy , se o filme existe\n",
    "def _fuzzy_matching(hashmap, fav_movie):\n",
    "    match_tuple = []\n",
    "    # get match\n",
    "    for title, idx in hashmap.items():\n",
    "        ratio = fuzz.ratio(title.lower(), fav_movie.lower())\n",
    "        if ratio >= 60:\n",
    "            match_tuple.append((title, idx, ratio))\n",
    "        # sort\n",
    "    match_tuple = sorted(match_tuple, key=lambda x: x[2])[::-1]\n",
    "    if not match_tuple:\n",
    "        print('Oops! No match is found')\n",
    "    else:\n",
    "        return match_tuple[0][1]\n",
    "        \n"
   ]
  },
  {
   "cell_type": "markdown",
   "metadata": {},
   "source": [
    "## Knn Recommender"
   ]
  },
  {
   "cell_type": "code",
   "execution_count": 117,
   "metadata": {
    "tags": [
     "outputPrepend"
    ]
   },
   "outputs": [
    {
     "output_type": "stream",
     "name": "stdout",
     "text": "Sistema de recomendação começa a fazer inferência\n......\n\nO meu sistema  0.00 s fez inferência \n              \n1: Single Girl, A (Fille seule, La) (1995), with distance of 0.697386264801\n2: Last Klezmer: Leopold Kozlowski, His Life and Music, The (1994), with distance of 0.697386264801\n3: Hamlet (1948), with distance of 0.697386205196\n4: Cobb (1994), with distance of 0.688944339752\n5: Very Brady Sequel, A (1996), with distance of 0.687203228474\n6: Restoration (1995), with distance of 0.686795949936\n7: Screamers (1995), with distance of 0.686735868454\n8: Mr. Holland's Opus (1995), with distance of 0.686266899109\n9: Up Close and Personal (1996), with distance of 0.679286241531\n10: Eraser (1996), with distance of 0.678920030594\n11: Mother (1996), with distance of 0.671063065529\n12: Sense and Sensibility (1995), with distance of 0.67001247406\n13: Anne Frank Remembered (1995), with distance of 0.658816874027\n14: Time to Kill, A (1996), with distance of 0.655674099922\n15: Crucible, The (1996), with distance of 0.646473169327\n16: City Hall (1996), with distance of 0.644442081451\n17: Primal Fear (1996), with distance of 0.639736354351\n18: Leaving Las Vegas (1995), with distance of 0.533936083317\n19: Dead Man Walking (1995), with distance of 0.533701777458\n20: Mighty Aphrodite (1995), with distance of 0.496744453907\n"
    }
   ],
   "source": [
    "# args = parse_args()\n",
    "\n",
    "PATH = os.getcwd()\n",
    "\n",
    "movies = pd.read_csv(PATH+'/movies.csv')\n",
    "ratings = pd.read_csv(PATH+'/ratings.csv')\n",
    "tags = pd.read_csv(PATH+'/tags.csv')\n",
    "\n",
    "top_n = 20 # top n movie recommendations\n",
    "movie_name = 'Nixon (1995)'\n",
    "\n",
    "movie_user_mat_sparse, hashmap = _prep_data(movies,ratings,1,1)\n",
    "#hashmap\n",
    "#m\n",
    "idx = _fuzzy_matching(hashmap,movie_name)\n",
    "idx\n",
    "distances, indices = Knn(movie_user_mat_sparse,idx,top_n)\n",
    "\n",
    "raw_recommends = _inference(distances,indices)\n",
    "#raw_recommends\n",
    "movies_recommender = make_recommendations(hashmap,raw_recommends)\n",
    "#movies_recommender\n",
    "\n",
    "\n"
   ]
  },
  {
   "cell_type": "markdown",
   "metadata": {},
   "source": [
    "## Knn Recommender Tag"
   ]
  },
  {
   "cell_type": "code",
   "execution_count": 99,
   "metadata": {},
   "outputs": [],
   "source": [
    "#filmes_tags = pd.DataFrame(data=filmes_tags,columns=['movieId','tags'])\n",
    "def _prep_data2(movies_recommender,movie):\n",
    "    movies_recommender.append(movie)\n",
    "    \n",
    "    df_tags = pd.read_csv('tags.csv',usecols=['movieId', 'tag'],dtype={'movieId': 'int32', 'tag': 'str'})\n",
    "    df_movies = pd.read_csv('movies.csv',usecols=['movieId', 'title'],dtype={'movieId': 'int32', 'title': 'str'})\n",
    "    \n",
    "    filmes_tags = []\n",
    "    \n",
    "    for movie in movies_recommender:\n",
    "        idfilme = df_movies[df_movies['title'] == movie].loc[:, 'movieId'].to_numpy()\n",
    "        # print('tags',df_tags[df_tags['movieId']==idfilme[0]])\n",
    "        for ii in df_tags[df_tags['movieId'] == idfilme[0]].to_numpy():\n",
    "            filmes_tags.append(ii)\n",
    "    return filmes_tags\n"
   ]
  },
  {
   "cell_type": "code",
   "execution_count": 100,
   "metadata": {},
   "outputs": [],
   "source": [
    "\n",
    "\n",
    "def org(filmes_tags):\n",
    "    ft = np.array(filmes_tags)\n",
    "    z  = np.zeros((len(np.unique(ft[:, 0])), len(np.unique(ft[:, 1]))))\n",
    "\n",
    "    df = pd.DataFrame(data=z, index=np.unique(ft[:, 0]), columns=np.unique(ft[:, 1]))\n",
    "    \n",
    "    return df\n",
    "\n",
    "\n",
    "# Inferência\n",
    "def inferenceTags(distances,indices):\n",
    "\n",
    "    print('Sistema de recomendação começa a fazer inferência')\n",
    "    print('......\\n')\n",
    "    t0 = time.time()\n",
    "\n",
    "\n",
    "    raw_recommend = sorted(list(zip(indices.squeeze().tolist(),distances.squeeze().tolist())),key=lambda x: x[1])[:0:-1]\n",
    "   \n",
    "    return raw_recommend\n",
    "\n",
    "\n"
   ]
  },
  {
   "cell_type": "code",
   "execution_count": 101,
   "metadata": {},
   "outputs": [],
   "source": [
    " # Fuzzy , se o filme existe\n",
    "def encontrarId(hashmap, fav_movie):  \n",
    "     \n",
    "    for movieId, idx in hashmap.items():\n",
    "        if(movieId==fav_movie):\n",
    "            print(idx,movieId)\n",
    "            return idx               \n",
    "# KNN\n",
    "def KnnTag(data,idx,n_recommendations):\n",
    "    model = NearestNeighbors(n_neighbors=20,algorithm='brute',metric='cosine')\n",
    "    model.fit(data)\n",
    "    distances, indices = model.kneighbors(data[idx],n_neighbors=n_recommendations+1)\n",
    "    return [distances,indices]\n"
   ]
  },
  {
   "cell_type": "code",
   "execution_count": 108,
   "metadata": {},
   "outputs": [],
   "source": [
    "def contem(filmes_tags,df):\n",
    "    filmes_tags = pd.DataFrame(data=filmes_tags,columns=['movieId','tags'])\n",
    "    t = filmes_tags\n",
    "    hashmapTags=[]\n",
    "    \n",
    "    for i in t.index:       \n",
    "        try:\n",
    "            df.loc[t.loc[i]['movieId'],t.loc[i]['tags']] += 1\n",
    "            #print(\"tem\",df.loc[t.loc[i]['movieId'],t.loc[i]['tags']])\n",
    "        except:            \n",
    "            print(\"nao tem\", df.loc[t.loc[i]['movieId'],t.loc[i]['tags']])                    \n",
    "\n",
    "\n",
    "\n",
    "\n",
    "    a= filmes_tags.groupby('movieId').apply(list)\n",
    "    hashmapTags = {\n",
    "        movieId: \n",
    "        i for i, movieId in enumerate(a.keys())\n",
    "        }     \n",
    "\n",
    "    # hashmapTags = {\n",
    "    #     movieId: \n",
    "    #     i for i, movieId in enumerate(list(filmes_tags.movieId),0)\n",
    "    #     }     \n",
    "        \n",
    "    matriz_tags_filmes = csr_matrix(df.values)            \n",
    "    \n",
    "    return hashmapTags,df,matriz_tags_filmes\n",
    "\n"
   ]
  },
  {
   "cell_type": "code",
   "execution_count": 103,
   "metadata": {},
   "outputs": [],
   "source": [
    "# Recomendação\n",
    "def lista_recomendacao(hashmap,raw_recommend,df_movies):\n",
    "    filmesRecomendados = []\n",
    "    \n",
    "    reverse_hashmap = {v: k for k, v in hashmap.items()}\n",
    "    # print(reverse_hashmap)\n",
    "    for i, (idx, dist) in enumerate(raw_recommend):\n",
    "        name_filme= df_movies.loc[df_movies['movieId'] == reverse_hashmap[idx]]['title']      \n",
    "        print('{0}: {1}, distancia '\n",
    "          '{2}'.format(i+1,str(name_filme), dist))        \n",
    "\n",
    "        #filmesRecomendados.append(reverse_hashmap[idx])\n",
    "\n",
    "   # return filmesRecomendados"
   ]
  },
  {
   "cell_type": "code",
   "execution_count": 118,
   "metadata": {
    "tags": [
     "outputPrepend"
    ]
   },
   "outputs": [
    {
     "output_type": "stream",
     "name": "stdout",
     "text": "(0, 14L)\nSistema de recomendação começa a fazer inferência\n......\n\n1: 533    Primal Fear (1996)\nName: title, dtype: object, distancia 0.958481733783\n2: 33    Dead Man Walking (1995)\nName: title, dtype: object, distancia 0.943863910858\n3: 639    Very Brady Sequel, A (1996)\nName: title, dtype: object, distancia 0.942833804952\n4: 39    Restoration (1995)\nName: title, dtype: object, distancia 0.914250707429\n5: 88    City Hall (1996)\nName: title, dtype: object, distancia 0.87035925529\n"
    }
   ],
   "source": [
    "df_movies = pd.read_csv('movies.csv',usecols=['movieId', 'title'],dtype={'movieId': 'int32', 'title': 'str'})\n",
    "#movie_name = 'Iron Man'\n",
    "top_n_tag = 5 # top n movie recommendations\n",
    "filmes_tags = _prep_data2(movies_recommender,movie_name)\n",
    "\n",
    "df = org(filmes_tags)\n",
    "\n",
    "idMovie = df_movies.loc[df_movies['title'] == movie_name]['movieId']\n",
    "\n",
    "filmes_tags = pd.DataFrame(data=filmes_tags,columns=['movieId','tags'])\n",
    "\n",
    "hashmapTags,dd, matriz_tags_filmes = contem(filmes_tags,df)\n",
    "hashmapTags\n",
    "idx=encontrarId(hashmapTags,float(idMovie))\n",
    "\n",
    "distances, indices = KnnTag(matriz_tags_filmes,idx,top_n_tag)\n",
    "distances, indices\n",
    "\n",
    "raw_recommend = inferenceTags(distances,indices)\n",
    "raw_recommend\n",
    "lista_recomendacao(hashmapTags,raw_recommend,df_movies)\n",
    "#movies_recommender"
   ]
  }
 ],
 "metadata": {
  "language_info": {
   "name": "python",
   "codemirror_mode": {
    "name": "ipython",
    "version": 3
   },
   "version": "2.7.16-final"
  },
  "orig_nbformat": 2,
  "file_extension": ".py",
  "mimetype": "text/x-python",
  "name": "python",
  "npconvert_exporter": "python",
  "pygments_lexer": "ipython3",
  "version": 3,
  "kernelspec": {
   "name": "python2",
   "display_name": "Python 2"
  }
 },
 "nbformat": 4,
 "nbformat_minor": 2
}